{
 "cells": [
  {
   "cell_type": "code",
   "execution_count": null,
   "metadata": {},
   "outputs": [],
   "source": [
    "# 导入必要的包\n",
    "import tensorflow as tf\n",
    "from tensorflow.keras.preprocessing.image import ImageDataGenerator\n",
    "from tensorflow.keras.applications import VGG16\n",
    "from tensorflow.keras.layers import AveragePooling2D\n",
    "from tensorflow.keras.layers import Dropout\n",
    "from tensorflow.keras.layers import Flatten\n",
    "from tensorflow.keras.layers import Dense\n",
    "from tensorflow.keras.layers import Input\n",
    "from tensorflow.keras.models import Model\n",
    "from tensorflow.keras.optimizers import Adam\n",
    "from tensorflow.keras.utils import to_categorical\n",
    "from sklearn.preprocessing import LabelBinarizer\n",
    "from sklearn.model_selection import train_test_split\n",
    "from sklearn.metrics import classification_report\n",
    "from sklearn.metrics import confusion_matrix\n",
    "from imutils import paths\n",
    "import matplotlib.pyplot as plt\n",
    "import numpy as np\n",
    "import argparse\n",
    "import cv2\n",
    "import os\n",
    "# 初始化初始学习率、要训练的epoch数和批大小\n",
    "INIT_LR = 1e-3\n",
    "EPOCHS = 25\n",
    "BS = 32\n",
    "# 在数据集目录中获取图像列表，然后初始化数据列表(即图像)和类图像\n",
    "print(\"[INFO] loading images...\")\n",
    "imagePaths = list(paths.list_images(\"./sleep_skeleton_dataset\"))\n",
    "data = []\n",
    "labels = []\n",
    "# 遍历图像路径\n",
    "for imagePath in imagePaths:\n",
    "    # 从文件名中提取类标签\n",
    "    label = imagePath.split(os.path.sep)[-2]\n",
    "    # 加载图像，切换颜色通道，并将其调整为固定的224x224像素，同时忽略高宽比\n",
    "    image = cv2.imread(imagePath)\n",
    "    image = cv2.cvtColor(image, cv2.COLOR_BGR2RGB)\n",
    "    image = cv2.resize(image, (260, 260))\n",
    "    # 分别更新数据和标签列表\n",
    "    data.append(image)\n",
    "    labels.append(label)\n",
    "# 将数据和标签转换为NumPy数组，同时缩放像素强度到范围[0,255]\n",
    "data = np.array(data) / 255.0\n",
    "labels = np.array(labels)\n",
    "# 对标签执行一次热编码\n",
    "lb = LabelBinarizer()\n",
    "labels = lb.fit_transform(labels)\n",
    "# 使用80%的数据用于训练，其余20%用于测试，将数据划分为训练和测试部分\n",
    "(trainX, testX, trainY, testY) = train_test_split(data, labels,\n",
    "                                                  test_size=0.20, stratify=labels, random_state=42)\n",
    "# 初始化训练数据扩充对象\n",
    "trainAug = ImageDataGenerator(rotation_range=15,\n",
    "                              fill_mode=\"nearest\")\n",
    "# 加载VGG16网络，确保关闭head FC层集\n",
    "baseModel = VGG16(weights=\"imagenet\", include_top=False,\n",
    "                  input_tensor=Input(shape=(260, 260, 3)))\n",
    "# 构造模型的头部，它将被放置在基础模型的顶部\n",
    "headModel = baseModel.output\n",
    "headModel = AveragePooling2D(pool_size=(4, 4))(headModel)\n",
    "headModel = Flatten(name=\"flatten\")(headModel)\n",
    "headModel = Dense(64, activation=\"relu\")(headModel)\n",
    "headModel = Dropout(0.5)(headModel)\n",
    "headModel = Dense(5, activation=\"softmax\")(headModel)\n",
    "# 将头部FC模型放在基础模型的顶部(这将成为我们将要训练的实际模型)\n",
    "model = Model(inputs=baseModel.input, outputs=headModel)\n",
    "# 循环基础模型中的所有层并冻结它们，这样它们就不会在第一个训练过程中被更新\n",
    "for layer in baseModel.layers:\n",
    "    layer.trainable = False\n",
    "# 编译模型\n",
    "print(\"[INFO] compiling model...\")\n",
    "opt = Adam(lr=INIT_LR, decay=INIT_LR / EPOCHS)\n",
    "model.compile(loss=\"categorical_crossentropy\", optimizer=opt,\n",
    "              metrics=[\"accuracy\"])\n",
    "# 训练网络\n",
    "print(\"[INFO] training head...\")\n",
    "H = model.fit_generator(trainAug.flow(trainX, trainY, batch_size=BS),\n",
    "                        steps_per_epoch=len(trainX) // BS,\n",
    "                        validation_data=(testX, testY),\n",
    "                        validation_steps=len(testX) // BS,\n",
    "                        epochs=EPOCHS)"
   ]
  },
  {
   "cell_type": "code",
   "execution_count": null,
   "metadata": {},
   "outputs": [],
   "source": [
    "# 绘制准确率曲线\n",
    "plt.plot(H.epoch,H.history.get('accuracy'),label='train_acc')\n",
    "plt.plot(H.epoch,H.history.get('val_accuracy'),label='test_acc')\n",
    "plt.legend()\n",
    "plt.savefig(\"./训练记录/VGG16/25代_5类_准确率\")"
   ]
  },
  {
   "cell_type": "code",
   "execution_count": null,
   "metadata": {},
   "outputs": [],
   "source": [
    "# 保存准确率绘图数据\n",
    "import scipy.io as scio\n",
    "data_acc = './训练记录/VGG16/25代_5类_准确率.mat'\n",
    "scio.savemat(data_acc,{'epoch':H.epoch,'train_acc':H.history.get('accuracy'),'val_acc':H.history.get('val_accuracy')})"
   ]
  },
  {
   "cell_type": "code",
   "execution_count": null,
   "metadata": {},
   "outputs": [],
   "source": [
    "# 绘制误差曲线\n",
    "plt.plot(H.epoch,H.history.get('loss'),label='train_loss')\n",
    "plt.plot(H.epoch,H.history.get('val_loss'),label='test_loss')\n",
    "plt.legend()\n",
    "plt.savefig(\"./训练记录/VGG16/25代_5类_误差\")"
   ]
  },
  {
   "cell_type": "code",
   "execution_count": null,
   "metadata": {},
   "outputs": [],
   "source": [
    "# 保存误差绘图数据\n",
    "data_acc = './训练记录/VGG16/25代_5类_误差.mat'\n",
    "scio.savemat(data_acc,{'epoch':H.epoch,'train_loss':H.history.get('loss'),'val_loss':H.history.get('val_loss')})"
   ]
  },
  {
   "cell_type": "code",
   "execution_count": null,
   "metadata": {},
   "outputs": [],
   "source": [
    "# 保存模型\n",
    "print(\"[INFO] saving model...\")\n",
    "model.save(\"./模型保存/sleep_VGG16_5classify_normal\", save_format=\"h5\")"
   ]
  }
 ],
 "metadata": {
  "kernelspec": {
   "display_name": "Python 3.8.2 64-bit",
   "language": "python",
   "name": "python38264bit08b640a45117486a9f2f4464125acd93"
  },
  "language_info": {
   "codemirror_mode": {
    "name": "ipython",
    "version": 3
   },
   "file_extension": ".py",
   "mimetype": "text/x-python",
   "name": "python",
   "nbconvert_exporter": "python",
   "pygments_lexer": "ipython3",
   "version": "3.8.2"
  }
 },
 "nbformat": 4,
 "nbformat_minor": 4
}
